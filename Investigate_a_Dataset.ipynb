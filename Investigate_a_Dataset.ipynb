{
 "cells": [
  {
   "cell_type": "markdown",
   "metadata": {},
   "source": [
    "# Exploratory Analysis of the 'Soccer' Dataset\n",
    "\n",
    "\n",
    "## Table of Contents\n",
    "<ul>\n",
    "<li><a href=\"#intro\">Introduction</a></li>\n",
    "<li><a href=\"#wrangling\">Data Wrangling</a></li>\n",
    "<li><a href=\"#eda\">Exploratory Data Analysis</a></li>\n",
    "<li><a href=\"#conclusions\">Conclusions</a></li>\n",
    "</ul>"
   ]
  },
  {
   "cell_type": "markdown",
   "metadata": {},
   "source": [
    "# <a id='intro'></a>\n",
    "## Introduction\n",
    "\n",
    "The dataset that will be explored in this project is the 'Soccer' dataset, which is in a 'SQLite database' format. The database contains multiple tables which must be joined in order to answer questions about the data.\n",
    "<br>\n",
    "<br>\n",
    "The questions that will be asked are the following:\n",
    "<ol>\n",
    "    <li>Which country/league has the most skilled soccer players?</li>\n",
    "    <li>Which team has the fastest players?</li>\n",
    "    <li>What is the relationship between weight and speed?</li>\n",
    "    <li>What is the relationship between age and overall rating?</li>\n",
    "    <li>Which players have improved the most between 2014 and 2016?</li>\n",
    "</ol>"
   ]
  },
  {
   "cell_type": "markdown",
   "metadata": {},
   "source": [
    "<a id='wrangling'></a>\n",
    "## Data Wrangling\n",
    "\n",
    "### General Properties"
   ]
  },
  {
   "cell_type": "markdown",
   "metadata": {},
   "source": [
    "First, the libraries that will be required for this anlaysis must be imported."
   ]
  },
  {
   "cell_type": "code",
   "execution_count": 2,
   "metadata": {},
   "outputs": [],
   "source": [
    "import pandas as pd\n",
    "import numpy as np\n",
    "import matplotlib.pyplot as plt\n",
    "%matplotlib inline\n",
    "import seaborn as sns\n",
    "import sqlite3 as sql\n",
    "from datetime import date"
   ]
  },
  {
   "cell_type": "markdown",
   "metadata": {},
   "source": [
    "Next, a connection must be created with the SQL database."
   ]
  },
  {
   "cell_type": "code",
   "execution_count": 3,
   "metadata": {},
   "outputs": [],
   "source": [
    "connection = sql.connect('database.sqlite')"
   ]
  },
  {
   "cell_type": "markdown",
   "metadata": {},
   "source": [
    "Then, the tables available in the database must be explored in order to ascertain which ones will be helpful in answering the research questions."
   ]
  },
  {
   "cell_type": "code",
   "execution_count": 4,
   "metadata": {},
   "outputs": [
    {
     "data": {
      "text/html": [
       "<div>\n",
       "<style scoped>\n",
       "    .dataframe tbody tr th:only-of-type {\n",
       "        vertical-align: middle;\n",
       "    }\n",
       "\n",
       "    .dataframe tbody tr th {\n",
       "        vertical-align: top;\n",
       "    }\n",
       "\n",
       "    .dataframe thead th {\n",
       "        text-align: right;\n",
       "    }\n",
       "</style>\n",
       "<table border=\"1\" class=\"dataframe\">\n",
       "  <thead>\n",
       "    <tr style=\"text-align: right;\">\n",
       "      <th></th>\n",
       "      <th>type</th>\n",
       "      <th>name</th>\n",
       "      <th>tbl_name</th>\n",
       "      <th>rootpage</th>\n",
       "      <th>sql</th>\n",
       "    </tr>\n",
       "  </thead>\n",
       "  <tbody>\n",
       "    <tr>\n",
       "      <th>0</th>\n",
       "      <td>table</td>\n",
       "      <td>sqlite_sequence</td>\n",
       "      <td>sqlite_sequence</td>\n",
       "      <td>4</td>\n",
       "      <td>CREATE TABLE sqlite_sequence(name,seq)</td>\n",
       "    </tr>\n",
       "    <tr>\n",
       "      <th>1</th>\n",
       "      <td>table</td>\n",
       "      <td>Player_Attributes</td>\n",
       "      <td>Player_Attributes</td>\n",
       "      <td>11</td>\n",
       "      <td>CREATE TABLE \"Player_Attributes\" (\\n\\t`id`\\tIN...</td>\n",
       "    </tr>\n",
       "    <tr>\n",
       "      <th>2</th>\n",
       "      <td>table</td>\n",
       "      <td>Player</td>\n",
       "      <td>Player</td>\n",
       "      <td>14</td>\n",
       "      <td>CREATE TABLE `Player` (\\n\\t`id`\\tINTEGER PRIMA...</td>\n",
       "    </tr>\n",
       "    <tr>\n",
       "      <th>3</th>\n",
       "      <td>table</td>\n",
       "      <td>Match</td>\n",
       "      <td>Match</td>\n",
       "      <td>18</td>\n",
       "      <td>CREATE TABLE `Match` (\\n\\t`id`\\tINTEGER PRIMAR...</td>\n",
       "    </tr>\n",
       "    <tr>\n",
       "      <th>4</th>\n",
       "      <td>table</td>\n",
       "      <td>League</td>\n",
       "      <td>League</td>\n",
       "      <td>24</td>\n",
       "      <td>CREATE TABLE `League` (\\n\\t`id`\\tINTEGER PRIMA...</td>\n",
       "    </tr>\n",
       "    <tr>\n",
       "      <th>5</th>\n",
       "      <td>table</td>\n",
       "      <td>Country</td>\n",
       "      <td>Country</td>\n",
       "      <td>26</td>\n",
       "      <td>CREATE TABLE `Country` (\\n\\t`id`\\tINTEGER PRIM...</td>\n",
       "    </tr>\n",
       "    <tr>\n",
       "      <th>6</th>\n",
       "      <td>table</td>\n",
       "      <td>Team</td>\n",
       "      <td>Team</td>\n",
       "      <td>29</td>\n",
       "      <td>CREATE TABLE \"Team\" (\\n\\t`id`\\tINTEGER PRIMARY...</td>\n",
       "    </tr>\n",
       "    <tr>\n",
       "      <th>7</th>\n",
       "      <td>table</td>\n",
       "      <td>Team_Attributes</td>\n",
       "      <td>Team_Attributes</td>\n",
       "      <td>2</td>\n",
       "      <td>CREATE TABLE `Team_Attributes` (\\n\\t`id`\\tINTE...</td>\n",
       "    </tr>\n",
       "  </tbody>\n",
       "</table>\n",
       "</div>"
      ],
      "text/plain": [
       "    type               name           tbl_name  rootpage  \\\n",
       "0  table    sqlite_sequence    sqlite_sequence         4   \n",
       "1  table  Player_Attributes  Player_Attributes        11   \n",
       "2  table             Player             Player        14   \n",
       "3  table              Match              Match        18   \n",
       "4  table             League             League        24   \n",
       "5  table            Country            Country        26   \n",
       "6  table               Team               Team        29   \n",
       "7  table    Team_Attributes    Team_Attributes         2   \n",
       "\n",
       "                                                 sql  \n",
       "0             CREATE TABLE sqlite_sequence(name,seq)  \n",
       "1  CREATE TABLE \"Player_Attributes\" (\\n\\t`id`\\tIN...  \n",
       "2  CREATE TABLE `Player` (\\n\\t`id`\\tINTEGER PRIMA...  \n",
       "3  CREATE TABLE `Match` (\\n\\t`id`\\tINTEGER PRIMAR...  \n",
       "4  CREATE TABLE `League` (\\n\\t`id`\\tINTEGER PRIMA...  \n",
       "5  CREATE TABLE `Country` (\\n\\t`id`\\tINTEGER PRIM...  \n",
       "6  CREATE TABLE \"Team\" (\\n\\t`id`\\tINTEGER PRIMARY...  \n",
       "7  CREATE TABLE `Team_Attributes` (\\n\\t`id`\\tINTE...  "
      ]
     },
     "execution_count": 4,
     "metadata": {},
     "output_type": "execute_result"
    }
   ],
   "source": [
    "pd.read_sql_query(\"SELECT * from sqlite_master WHERE type='table'\", connection)"
   ]
  },
  {
   "cell_type": "markdown",
   "metadata": {},
   "source": [
    "First, the Players_Attributes table will be explored."
   ]
  },
  {
   "cell_type": "code",
   "execution_count": 5,
   "metadata": {},
   "outputs": [
    {
     "name": "stdout",
     "output_type": "stream",
     "text": [
      "<class 'pandas.core.frame.DataFrame'>\n",
      "RangeIndex: 183978 entries, 0 to 183977\n",
      "Data columns (total 42 columns):\n",
      "id                     183978 non-null int64\n",
      "player_fifa_api_id     183978 non-null int64\n",
      "player_api_id          183978 non-null int64\n",
      "date                   183978 non-null object\n",
      "overall_rating         183142 non-null float64\n",
      "potential              183142 non-null float64\n",
      "preferred_foot         183142 non-null object\n",
      "attacking_work_rate    180748 non-null object\n",
      "defensive_work_rate    183142 non-null object\n",
      "crossing               183142 non-null float64\n",
      "finishing              183142 non-null float64\n",
      "heading_accuracy       183142 non-null float64\n",
      "short_passing          183142 non-null float64\n",
      "volleys                181265 non-null float64\n",
      "dribbling              183142 non-null float64\n",
      "curve                  181265 non-null float64\n",
      "free_kick_accuracy     183142 non-null float64\n",
      "long_passing           183142 non-null float64\n",
      "ball_control           183142 non-null float64\n",
      "acceleration           183142 non-null float64\n",
      "sprint_speed           183142 non-null float64\n",
      "agility                181265 non-null float64\n",
      "reactions              183142 non-null float64\n",
      "balance                181265 non-null float64\n",
      "shot_power             183142 non-null float64\n",
      "jumping                181265 non-null float64\n",
      "stamina                183142 non-null float64\n",
      "strength               183142 non-null float64\n",
      "long_shots             183142 non-null float64\n",
      "aggression             183142 non-null float64\n",
      "interceptions          183142 non-null float64\n",
      "positioning            183142 non-null float64\n",
      "vision                 181265 non-null float64\n",
      "penalties              183142 non-null float64\n",
      "marking                183142 non-null float64\n",
      "standing_tackle        183142 non-null float64\n",
      "sliding_tackle         181265 non-null float64\n",
      "gk_diving              183142 non-null float64\n",
      "gk_handling            183142 non-null float64\n",
      "gk_kicking             183142 non-null float64\n",
      "gk_positioning         183142 non-null float64\n",
      "gk_reflexes            183142 non-null float64\n",
      "dtypes: float64(35), int64(3), object(4)\n",
      "memory usage: 59.0+ MB\n"
     ]
    }
   ],
   "source": [
    "pd.read_sql_query(\"\"\"SELECT *\n",
    "                    FROM Player_Attributes;\"\"\", connection).info()"
   ]
  },
  {
   "cell_type": "markdown",
   "metadata": {},
   "source": [
    "This table contains a series of quantitative attributes which rate a player's ability (rating out of 100) at a given point in time. The 'overall_rating' field and the 'sprint_speed' field may be useful in answering some questions."
   ]
  },
  {
   "cell_type": "markdown",
   "metadata": {},
   "source": [
    "Next, the Player table will be explored."
   ]
  },
  {
   "cell_type": "code",
   "execution_count": 6,
   "metadata": {},
   "outputs": [
    {
     "name": "stdout",
     "output_type": "stream",
     "text": [
      "<class 'pandas.core.frame.DataFrame'>\n",
      "RangeIndex: 11060 entries, 0 to 11059\n",
      "Data columns (total 7 columns):\n",
      "id                    11060 non-null int64\n",
      "player_api_id         11060 non-null int64\n",
      "player_name           11060 non-null object\n",
      "player_fifa_api_id    11060 non-null int64\n",
      "birthday              11060 non-null object\n",
      "height                11060 non-null float64\n",
      "weight                11060 non-null int64\n",
      "dtypes: float64(1), int64(4), object(2)\n",
      "memory usage: 604.9+ KB\n"
     ]
    }
   ],
   "source": [
    "pd.read_sql_query(\"\"\"SELECT *\n",
    "                    FROM Player;\"\"\", connection).info()"
   ]
  },
  {
   "cell_type": "markdown",
   "metadata": {},
   "source": [
    "This table contains a series of descriptive traits about the players. The 'player_name' field and the the 'weight' field may help answer some questions."
   ]
  },
  {
   "cell_type": "code",
   "execution_count": 7,
   "metadata": {
    "scrolled": true
   },
   "outputs": [
    {
     "data": {
      "text/plain": [
       "['id',\n",
       " 'country_id',\n",
       " 'league_id',\n",
       " 'season',\n",
       " 'stage',\n",
       " 'date',\n",
       " 'match_api_id',\n",
       " 'home_team_api_id',\n",
       " 'away_team_api_id',\n",
       " 'home_team_goal',\n",
       " 'away_team_goal',\n",
       " 'home_player_X1',\n",
       " 'home_player_X2',\n",
       " 'home_player_X3',\n",
       " 'home_player_X4',\n",
       " 'home_player_X5',\n",
       " 'home_player_X6',\n",
       " 'home_player_X7',\n",
       " 'home_player_X8',\n",
       " 'home_player_X9',\n",
       " 'home_player_X10',\n",
       " 'home_player_X11',\n",
       " 'away_player_X1',\n",
       " 'away_player_X2',\n",
       " 'away_player_X3',\n",
       " 'away_player_X4',\n",
       " 'away_player_X5',\n",
       " 'away_player_X6',\n",
       " 'away_player_X7',\n",
       " 'away_player_X8',\n",
       " 'away_player_X9',\n",
       " 'away_player_X10',\n",
       " 'away_player_X11',\n",
       " 'home_player_Y1',\n",
       " 'home_player_Y2',\n",
       " 'home_player_Y3',\n",
       " 'home_player_Y4',\n",
       " 'home_player_Y5',\n",
       " 'home_player_Y6',\n",
       " 'home_player_Y7',\n",
       " 'home_player_Y8',\n",
       " 'home_player_Y9',\n",
       " 'home_player_Y10',\n",
       " 'home_player_Y11',\n",
       " 'away_player_Y1',\n",
       " 'away_player_Y2',\n",
       " 'away_player_Y3',\n",
       " 'away_player_Y4',\n",
       " 'away_player_Y5',\n",
       " 'away_player_Y6',\n",
       " 'away_player_Y7',\n",
       " 'away_player_Y8',\n",
       " 'away_player_Y9',\n",
       " 'away_player_Y10',\n",
       " 'away_player_Y11',\n",
       " 'home_player_1',\n",
       " 'home_player_2',\n",
       " 'home_player_3',\n",
       " 'home_player_4',\n",
       " 'home_player_5',\n",
       " 'home_player_6',\n",
       " 'home_player_7',\n",
       " 'home_player_8',\n",
       " 'home_player_9',\n",
       " 'home_player_10',\n",
       " 'home_player_11',\n",
       " 'away_player_1',\n",
       " 'away_player_2',\n",
       " 'away_player_3',\n",
       " 'away_player_4',\n",
       " 'away_player_5',\n",
       " 'away_player_6',\n",
       " 'away_player_7',\n",
       " 'away_player_8',\n",
       " 'away_player_9',\n",
       " 'away_player_10',\n",
       " 'away_player_11',\n",
       " 'goal',\n",
       " 'shoton',\n",
       " 'shotoff',\n",
       " 'foulcommit',\n",
       " 'card',\n",
       " 'cross',\n",
       " 'corner',\n",
       " 'possession',\n",
       " 'B365H',\n",
       " 'B365D',\n",
       " 'B365A',\n",
       " 'BWH',\n",
       " 'BWD',\n",
       " 'BWA',\n",
       " 'IWH',\n",
       " 'IWD',\n",
       " 'IWA',\n",
       " 'LBH',\n",
       " 'LBD',\n",
       " 'LBA',\n",
       " 'PSH',\n",
       " 'PSD',\n",
       " 'PSA',\n",
       " 'WHH',\n",
       " 'WHD',\n",
       " 'WHA',\n",
       " 'SJH',\n",
       " 'SJD',\n",
       " 'SJA',\n",
       " 'VCH',\n",
       " 'VCD',\n",
       " 'VCA',\n",
       " 'GBH',\n",
       " 'GBD',\n",
       " 'GBA',\n",
       " 'BSH',\n",
       " 'BSD',\n",
       " 'BSA']"
      ]
     },
     "execution_count": 7,
     "metadata": {},
     "output_type": "execute_result"
    }
   ],
   "source": [
    "list(pd.read_sql_query(\"\"\"SELECT *\n",
    "                    FROM Match;\"\"\", connection).columns)\n",
    "\n",
    "#The columns method is applied to the query and is cast in a list so that the result details all columns"
   ]
  },
  {
   "cell_type": "markdown",
   "metadata": {},
   "source": [
    "This table contains records of matches played, including information such as the home team, the away team, the players on each side, the score, etc. Note that this is the only table which ties the player names to the team they play for and the league/country they play in. Fields such as 'home_player_...' as well as 'country_id' and 'league_id' may be helful in answering some questions."
   ]
  },
  {
   "cell_type": "code",
   "execution_count": 8,
   "metadata": {},
   "outputs": [
    {
     "name": "stdout",
     "output_type": "stream",
     "text": [
      "<class 'pandas.core.frame.DataFrame'>\n",
      "RangeIndex: 11 entries, 0 to 10\n",
      "Data columns (total 3 columns):\n",
      "id            11 non-null int64\n",
      "country_id    11 non-null int64\n",
      "name          11 non-null object\n",
      "dtypes: int64(2), object(1)\n",
      "memory usage: 344.0+ bytes\n"
     ]
    }
   ],
   "source": [
    "pd.read_sql_query(\"\"\"SELECT *\n",
    "                    FROM League;\"\"\", connection).info()"
   ]
  },
  {
   "cell_type": "markdown",
   "metadata": {},
   "source": [
    "This table contains a list of leagues. The 'name' field may help with some questions."
   ]
  },
  {
   "cell_type": "code",
   "execution_count": 9,
   "metadata": {},
   "outputs": [
    {
     "name": "stdout",
     "output_type": "stream",
     "text": [
      "<class 'pandas.core.frame.DataFrame'>\n",
      "RangeIndex: 11 entries, 0 to 10\n",
      "Data columns (total 2 columns):\n",
      "id      11 non-null int64\n",
      "name    11 non-null object\n",
      "dtypes: int64(1), object(1)\n",
      "memory usage: 256.0+ bytes\n"
     ]
    }
   ],
   "source": [
    "pd.read_sql_query(\"\"\"SELECT *\n",
    "                    FROM Country;\"\"\", connection).info()"
   ]
  },
  {
   "cell_type": "markdown",
   "metadata": {},
   "source": [
    "This table contains a list of countries. The 'name' field may help with some questions."
   ]
  },
  {
   "cell_type": "code",
   "execution_count": 10,
   "metadata": {},
   "outputs": [
    {
     "name": "stdout",
     "output_type": "stream",
     "text": [
      "<class 'pandas.core.frame.DataFrame'>\n",
      "RangeIndex: 299 entries, 0 to 298\n",
      "Data columns (total 5 columns):\n",
      "id                  299 non-null int64\n",
      "team_api_id         299 non-null int64\n",
      "team_fifa_api_id    288 non-null float64\n",
      "team_long_name      299 non-null object\n",
      "team_short_name     299 non-null object\n",
      "dtypes: float64(1), int64(2), object(2)\n",
      "memory usage: 11.8+ KB\n"
     ]
    }
   ],
   "source": [
    "pd.read_sql_query(\"\"\"SELECT *\n",
    "                    FROM Team;\"\"\", connection).info()"
   ]
  },
  {
   "cell_type": "markdown",
   "metadata": {},
   "source": [
    "This table contains a list of teams. The 'team_long_name' may be helpful to answer some questions."
   ]
  },
  {
   "cell_type": "code",
   "execution_count": 11,
   "metadata": {},
   "outputs": [
    {
     "name": "stdout",
     "output_type": "stream",
     "text": [
      "<class 'pandas.core.frame.DataFrame'>\n",
      "RangeIndex: 1458 entries, 0 to 1457\n",
      "Data columns (total 25 columns):\n",
      "id                                1458 non-null int64\n",
      "team_fifa_api_id                  1458 non-null int64\n",
      "team_api_id                       1458 non-null int64\n",
      "date                              1458 non-null object\n",
      "buildUpPlaySpeed                  1458 non-null int64\n",
      "buildUpPlaySpeedClass             1458 non-null object\n",
      "buildUpPlayDribbling              489 non-null float64\n",
      "buildUpPlayDribblingClass         1458 non-null object\n",
      "buildUpPlayPassing                1458 non-null int64\n",
      "buildUpPlayPassingClass           1458 non-null object\n",
      "buildUpPlayPositioningClass       1458 non-null object\n",
      "chanceCreationPassing             1458 non-null int64\n",
      "chanceCreationPassingClass        1458 non-null object\n",
      "chanceCreationCrossing            1458 non-null int64\n",
      "chanceCreationCrossingClass       1458 non-null object\n",
      "chanceCreationShooting            1458 non-null int64\n",
      "chanceCreationShootingClass       1458 non-null object\n",
      "chanceCreationPositioningClass    1458 non-null object\n",
      "defencePressure                   1458 non-null int64\n",
      "defencePressureClass              1458 non-null object\n",
      "defenceAggression                 1458 non-null int64\n",
      "defenceAggressionClass            1458 non-null object\n",
      "defenceTeamWidth                  1458 non-null int64\n",
      "defenceTeamWidthClass             1458 non-null object\n",
      "defenceDefenderLineClass          1458 non-null object\n",
      "dtypes: float64(1), int64(11), object(13)\n",
      "memory usage: 284.8+ KB\n"
     ]
    }
   ],
   "source": [
    "pd.read_sql_query(\"\"\"SELECT *\n",
    "                    FROM Team_Attributes;\"\"\", connection).info()"
   ]
  },
  {
   "cell_type": "markdown",
   "metadata": {},
   "source": [
    "This table contains a list of team attributes. While this information may be interesting for a future analysis, it falls outside the scope of the research questions."
   ]
  },
  {
   "cell_type": "markdown",
   "metadata": {},
   "source": [
    "#### Table Creation"
   ]
  },
  {
   "cell_type": "markdown",
   "metadata": {},
   "source": [
    "In order to answer the research questions, a table identifying all players and a series of attributes (such as which team they play for, their speed rating, their age, etc.) must be created.\n",
    "\n",
    "In light of the information gathered on each table above, the following steps must be followed:\n",
    "<ul>\n",
    "    <li> Modify the Match table to create a list of players per team.</li>\n",
    "    <li> Join the player attributes to this new table.</li>\n",
    "    <li> Join the information from the Team and Country tables to the table.</li>"
   ]
  },
  {
   "cell_type": "markdown",
   "metadata": {},
   "source": [
    "First, the Match table will be queried to select a list of all home players in a game. The information for non-starting players is not available. Furthermore, it is assumed that all teams will alternate playing at home and away - therefore, only home players are selected in the query. Null values are excluded in the query."
   ]
  },
  {
   "cell_type": "code",
   "execution_count": 12,
   "metadata": {
    "scrolled": false
   },
   "outputs": [
    {
     "data": {
      "text/html": [
       "<div>\n",
       "<style scoped>\n",
       "    .dataframe tbody tr th:only-of-type {\n",
       "        vertical-align: middle;\n",
       "    }\n",
       "\n",
       "    .dataframe tbody tr th {\n",
       "        vertical-align: top;\n",
       "    }\n",
       "\n",
       "    .dataframe thead th {\n",
       "        text-align: right;\n",
       "    }\n",
       "</style>\n",
       "<table border=\"1\" class=\"dataframe\">\n",
       "  <thead>\n",
       "    <tr style=\"text-align: right;\">\n",
       "      <th></th>\n",
       "      <th>home_team_api_id</th>\n",
       "      <th>country_id</th>\n",
       "      <th>league_id</th>\n",
       "      <th>home_player_1</th>\n",
       "      <th>home_player_2</th>\n",
       "      <th>home_player_3</th>\n",
       "      <th>home_player_4</th>\n",
       "      <th>home_player_5</th>\n",
       "      <th>home_player_6</th>\n",
       "      <th>home_player_7</th>\n",
       "      <th>home_player_8</th>\n",
       "      <th>home_player_9</th>\n",
       "      <th>home_player_10</th>\n",
       "      <th>home_player_11</th>\n",
       "    </tr>\n",
       "  </thead>\n",
       "  <tbody>\n",
       "    <tr>\n",
       "      <th>0</th>\n",
       "      <td>8203</td>\n",
       "      <td>1</td>\n",
       "      <td>1</td>\n",
       "      <td>38327</td>\n",
       "      <td>67950</td>\n",
       "      <td>67958</td>\n",
       "      <td>67959</td>\n",
       "      <td>37112</td>\n",
       "      <td>36393</td>\n",
       "      <td>148286</td>\n",
       "      <td>67898</td>\n",
       "      <td>164352</td>\n",
       "      <td>38801</td>\n",
       "      <td>26502</td>\n",
       "    </tr>\n",
       "    <tr>\n",
       "      <th>1</th>\n",
       "      <td>8342</td>\n",
       "      <td>1</td>\n",
       "      <td>1</td>\n",
       "      <td>37990</td>\n",
       "      <td>37983</td>\n",
       "      <td>21812</td>\n",
       "      <td>11736</td>\n",
       "      <td>37858</td>\n",
       "      <td>39578</td>\n",
       "      <td>38336</td>\n",
       "      <td>38366</td>\n",
       "      <td>52280</td>\n",
       "      <td>27423</td>\n",
       "      <td>38440</td>\n",
       "    </tr>\n",
       "    <tr>\n",
       "      <th>2</th>\n",
       "      <td>10000</td>\n",
       "      <td>1</td>\n",
       "      <td>1</td>\n",
       "      <td>37900</td>\n",
       "      <td>37886</td>\n",
       "      <td>37903</td>\n",
       "      <td>37889</td>\n",
       "      <td>94030</td>\n",
       "      <td>37902</td>\n",
       "      <td>38231</td>\n",
       "      <td>131530</td>\n",
       "      <td>130027</td>\n",
       "      <td>37893</td>\n",
       "      <td>37981</td>\n",
       "    </tr>\n",
       "    <tr>\n",
       "      <th>3</th>\n",
       "      <td>9984</td>\n",
       "      <td>1</td>\n",
       "      <td>1</td>\n",
       "      <td>36835</td>\n",
       "      <td>37047</td>\n",
       "      <td>37021</td>\n",
       "      <td>37051</td>\n",
       "      <td>104386</td>\n",
       "      <td>32863</td>\n",
       "      <td>37957</td>\n",
       "      <td>37909</td>\n",
       "      <td>38357</td>\n",
       "      <td>37065</td>\n",
       "      <td>78462</td>\n",
       "    </tr>\n",
       "    <tr>\n",
       "      <th>4</th>\n",
       "      <td>8635</td>\n",
       "      <td>1</td>\n",
       "      <td>1</td>\n",
       "      <td>34480</td>\n",
       "      <td>38388</td>\n",
       "      <td>26458</td>\n",
       "      <td>13423</td>\n",
       "      <td>38389</td>\n",
       "      <td>30949</td>\n",
       "      <td>38393</td>\n",
       "      <td>38253</td>\n",
       "      <td>38383</td>\n",
       "      <td>38778</td>\n",
       "      <td>37069</td>\n",
       "    </tr>\n",
       "  </tbody>\n",
       "</table>\n",
       "</div>"
      ],
      "text/plain": [
       "   home_team_api_id  country_id  league_id  home_player_1  home_player_2  \\\n",
       "0              8203           1          1          38327          67950   \n",
       "1              8342           1          1          37990          37983   \n",
       "2             10000           1          1          37900          37886   \n",
       "3              9984           1          1          36835          37047   \n",
       "4              8635           1          1          34480          38388   \n",
       "\n",
       "   home_player_3  home_player_4  home_player_5  home_player_6  home_player_7  \\\n",
       "0          67958          67959          37112          36393         148286   \n",
       "1          21812          11736          37858          39578          38336   \n",
       "2          37903          37889          94030          37902          38231   \n",
       "3          37021          37051         104386          32863          37957   \n",
       "4          26458          13423          38389          30949          38393   \n",
       "\n",
       "   home_player_8  home_player_9  home_player_10  home_player_11  \n",
       "0          67898         164352           38801           26502  \n",
       "1          38366          52280           27423           38440  \n",
       "2         131530         130027           37893           37981  \n",
       "3          37909          38357           37065           78462  \n",
       "4          38253          38383           38778           37069  "
      ]
     },
     "execution_count": 12,
     "metadata": {},
     "output_type": "execute_result"
    }
   ],
   "source": [
    "match = pd.read_sql_query(\"\"\"SELECT home_team_api_id, country_id, league_id, \n",
    "                    home_player_1, home_player_2, \n",
    "                    home_player_3, home_player_4, home_player_5, \n",
    "                    home_player_6, home_player_7, home_player_8, \n",
    "                    home_player_9, home_player_10, home_player_11\n",
    "                    FROM Match\n",
    "                    WHERE\n",
    "                    home_player_1 AND home_player_2 AND home_player_3\n",
    "                    AND home_player_4 AND home_player_5 AND home_player_6\n",
    "                    AND home_player_7 AND home_player_8 AND home_player_9 \n",
    "                    AND home_player_10 AND home_player_11 AND home_team_api_id\n",
    "                    AND country_id AND league_id IS NOT NULL;\"\"\", connection)\n",
    "match.head()"
   ]
  },
  {
   "cell_type": "markdown",
   "metadata": {},
   "source": [
    "In order to modify the new 'match' table to create a list of players per team, the melt function will be used to collapse the player fields into values in a column. Then, the 'player_api_id' value will be made the index in order to facilitate an inner join with data from the Player and Player Attributes columns."
   ]
  },
  {
   "cell_type": "code",
   "execution_count": 13,
   "metadata": {},
   "outputs": [
    {
     "name": "stderr",
     "output_type": "stream",
     "text": [
      "/opt/conda/lib/python3.6/site-packages/pandas/core/indexing.py:1472: FutureWarning: \n",
      "Passing list-likes to .loc or [] with any missing label will raise\n",
      "KeyError in the future, you can use .reindex() as an alternative.\n",
      "\n",
      "See the documentation here:\n",
      "https://pandas.pydata.org/pandas-docs/stable/indexing.html#deprecate-loc-reindex-listlike\n",
      "  return self._getitem_tuple(key)\n"
     ]
    },
    {
     "data": {
      "text/html": [
       "<div>\n",
       "<style scoped>\n",
       "    .dataframe tbody tr th:only-of-type {\n",
       "        vertical-align: middle;\n",
       "    }\n",
       "\n",
       "    .dataframe tbody tr th {\n",
       "        vertical-align: top;\n",
       "    }\n",
       "\n",
       "    .dataframe thead th {\n",
       "        text-align: right;\n",
       "    }\n",
       "</style>\n",
       "<table border=\"1\" class=\"dataframe\">\n",
       "  <thead>\n",
       "    <tr style=\"text-align: right;\">\n",
       "      <th></th>\n",
       "      <th>team</th>\n",
       "      <th>country_id</th>\n",
       "      <th>league_id</th>\n",
       "    </tr>\n",
       "    <tr>\n",
       "      <th>player_api_id</th>\n",
       "      <th></th>\n",
       "      <th></th>\n",
       "      <th></th>\n",
       "    </tr>\n",
       "  </thead>\n",
       "  <tbody>\n",
       "    <tr>\n",
       "      <th>2625</th>\n",
       "      <td>8569</td>\n",
       "      <td>15722</td>\n",
       "      <td>15722</td>\n",
       "    </tr>\n",
       "    <tr>\n",
       "      <th>2752</th>\n",
       "      <td>7878</td>\n",
       "      <td>21518</td>\n",
       "      <td>21518</td>\n",
       "    </tr>\n",
       "    <tr>\n",
       "      <th>2768</th>\n",
       "      <td>8370</td>\n",
       "      <td>21518</td>\n",
       "      <td>21518</td>\n",
       "    </tr>\n",
       "    <tr>\n",
       "      <th>2768</th>\n",
       "      <td>8603</td>\n",
       "      <td>21518</td>\n",
       "      <td>21518</td>\n",
       "    </tr>\n",
       "    <tr>\n",
       "      <th>2768</th>\n",
       "      <td>10205</td>\n",
       "      <td>21518</td>\n",
       "      <td>21518</td>\n",
       "    </tr>\n",
       "  </tbody>\n",
       "</table>\n",
       "</div>"
      ],
      "text/plain": [
       "                team  country_id  league_id\n",
       "player_api_id                              \n",
       "2625            8569       15722      15722\n",
       "2752            7878       21518      21518\n",
       "2768            8370       21518      21518\n",
       "2768            8603       21518      21518\n",
       "2768           10205       21518      21518"
      ]
     },
     "execution_count": 13,
     "metadata": {},
     "output_type": "execute_result"
    }
   ],
   "source": [
    "players = pd.melt(match, id_vars=['home_team_api_id', 'date', 'country_id', 'league_id'], value_vars=match.columns[4:]).sort_values('date', ascending=False).drop(['date', 'variable'], axis=1).drop_duplicates(keep='first').rename(columns={'home_team_api_id': 'team', 'value': 'player_api_id'}).set_index('player_api_id').sort_values('player_api_id', ascending=True)\n",
    "players.head()"
   ]
  },
  {
   "cell_type": "markdown",
   "metadata": {},
   "source": [
    "Next, a SQL Join is performed in order to join select values from the Player_Attributes and Player tables and extract the resulting table."
   ]
  },
  {
   "cell_type": "code",
   "execution_count": 14,
   "metadata": {},
   "outputs": [
    {
     "data": {
      "text/html": [
       "<div>\n",
       "<style scoped>\n",
       "    .dataframe tbody tr th:only-of-type {\n",
       "        vertical-align: middle;\n",
       "    }\n",
       "\n",
       "    .dataframe tbody tr th {\n",
       "        vertical-align: top;\n",
       "    }\n",
       "\n",
       "    .dataframe thead th {\n",
       "        text-align: right;\n",
       "    }\n",
       "</style>\n",
       "<table border=\"1\" class=\"dataframe\">\n",
       "  <thead>\n",
       "    <tr style=\"text-align: right;\">\n",
       "      <th></th>\n",
       "      <th>player_name</th>\n",
       "      <th>birthday</th>\n",
       "      <th>height</th>\n",
       "      <th>weight</th>\n",
       "      <th>overall_rating</th>\n",
       "      <th>sprint_speed</th>\n",
       "      <th>date</th>\n",
       "    </tr>\n",
       "    <tr>\n",
       "      <th>player_api_id</th>\n",
       "      <th></th>\n",
       "      <th></th>\n",
       "      <th></th>\n",
       "      <th></th>\n",
       "      <th></th>\n",
       "      <th></th>\n",
       "      <th></th>\n",
       "    </tr>\n",
       "  </thead>\n",
       "  <tbody>\n",
       "    <tr>\n",
       "      <th>505942</th>\n",
       "      <td>Aaron Appindangoye</td>\n",
       "      <td>1992-02-29 00:00:00</td>\n",
       "      <td>182.88</td>\n",
       "      <td>187</td>\n",
       "      <td>67.0</td>\n",
       "      <td>64.0</td>\n",
       "      <td>2016-02-18 00:00:00</td>\n",
       "    </tr>\n",
       "    <tr>\n",
       "      <th>505942</th>\n",
       "      <td>Aaron Appindangoye</td>\n",
       "      <td>1992-02-29 00:00:00</td>\n",
       "      <td>182.88</td>\n",
       "      <td>187</td>\n",
       "      <td>67.0</td>\n",
       "      <td>64.0</td>\n",
       "      <td>2015-11-19 00:00:00</td>\n",
       "    </tr>\n",
       "    <tr>\n",
       "      <th>505942</th>\n",
       "      <td>Aaron Appindangoye</td>\n",
       "      <td>1992-02-29 00:00:00</td>\n",
       "      <td>182.88</td>\n",
       "      <td>187</td>\n",
       "      <td>62.0</td>\n",
       "      <td>64.0</td>\n",
       "      <td>2015-09-21 00:00:00</td>\n",
       "    </tr>\n",
       "    <tr>\n",
       "      <th>505942</th>\n",
       "      <td>Aaron Appindangoye</td>\n",
       "      <td>1992-02-29 00:00:00</td>\n",
       "      <td>182.88</td>\n",
       "      <td>187</td>\n",
       "      <td>61.0</td>\n",
       "      <td>64.0</td>\n",
       "      <td>2015-03-20 00:00:00</td>\n",
       "    </tr>\n",
       "    <tr>\n",
       "      <th>505942</th>\n",
       "      <td>Aaron Appindangoye</td>\n",
       "      <td>1992-02-29 00:00:00</td>\n",
       "      <td>182.88</td>\n",
       "      <td>187</td>\n",
       "      <td>61.0</td>\n",
       "      <td>64.0</td>\n",
       "      <td>2007-02-22 00:00:00</td>\n",
       "    </tr>\n",
       "  </tbody>\n",
       "</table>\n",
       "</div>"
      ],
      "text/plain": [
       "                      player_name             birthday  height  weight  \\\n",
       "player_api_id                                                            \n",
       "505942         Aaron Appindangoye  1992-02-29 00:00:00  182.88     187   \n",
       "505942         Aaron Appindangoye  1992-02-29 00:00:00  182.88     187   \n",
       "505942         Aaron Appindangoye  1992-02-29 00:00:00  182.88     187   \n",
       "505942         Aaron Appindangoye  1992-02-29 00:00:00  182.88     187   \n",
       "505942         Aaron Appindangoye  1992-02-29 00:00:00  182.88     187   \n",
       "\n",
       "               overall_rating  sprint_speed                 date  \n",
       "player_api_id                                                     \n",
       "505942                   67.0          64.0  2016-02-18 00:00:00  \n",
       "505942                   67.0          64.0  2015-11-19 00:00:00  \n",
       "505942                   62.0          64.0  2015-09-21 00:00:00  \n",
       "505942                   61.0          64.0  2015-03-20 00:00:00  \n",
       "505942                   61.0          64.0  2007-02-22 00:00:00  "
      ]
     },
     "execution_count": 14,
     "metadata": {},
     "output_type": "execute_result"
    }
   ],
   "source": [
    "players2 = pd.read_sql_query(\"\"\"SELECT Player.player_api_id, Player.player_name, \n",
    "                    Player.birthday, Player.height, Player.weight, Player_Attributes.overall_rating, \n",
    "                    Player_Attributes.sprint_speed, Player_Attributes.date\n",
    "                    FROM Player\n",
    "                    JOIN Player_Attributes ON Player_Attributes.player_api_id = Player.player_api_id;\"\"\", connection).set_index('player_api_id')\n",
    "players2.head()"
   ]
  },
  {
   "cell_type": "markdown",
   "metadata": {},
   "source": [
    "The newly pulled dataframe must then be merged with the first dataframe. "
   ]
  },
  {
   "cell_type": "code",
   "execution_count": 15,
   "metadata": {},
   "outputs": [],
   "source": [
    "players = players.merge(players2, how='inner', left_index=True, right_index=True)"
   ]
  },
  {
   "cell_type": "markdown",
   "metadata": {},
   "source": [
    "Next, the Team and League tables must be queried to join additional information onto the 'players' dataframe."
   ]
  },
  {
   "cell_type": "code",
   "execution_count": 16,
   "metadata": {},
   "outputs": [
    {
     "name": "stdout",
     "output_type": "stream",
     "text": [
      "<class 'pandas.core.frame.DataFrame'>\n",
      "RangeIndex: 299 entries, 0 to 298\n",
      "Data columns (total 2 columns):\n",
      "team_api_id       299 non-null int64\n",
      "team_long_name    299 non-null object\n",
      "dtypes: int64(1), object(1)\n",
      "memory usage: 4.8+ KB\n"
     ]
    }
   ],
   "source": [
    "teams = pd.read_sql_query(\"\"\"SELECT team_api_id, team_long_name\n",
    "                    FROM Team;\"\"\", connection)\n",
    "teams.info()"
   ]
  },
  {
   "cell_type": "code",
   "execution_count": 17,
   "metadata": {},
   "outputs": [
    {
     "data": {
      "text/html": [
       "<div>\n",
       "<style scoped>\n",
       "    .dataframe tbody tr th:only-of-type {\n",
       "        vertical-align: middle;\n",
       "    }\n",
       "\n",
       "    .dataframe tbody tr th {\n",
       "        vertical-align: top;\n",
       "    }\n",
       "\n",
       "    .dataframe thead th {\n",
       "        text-align: right;\n",
       "    }\n",
       "</style>\n",
       "<table border=\"1\" class=\"dataframe\">\n",
       "  <thead>\n",
       "    <tr style=\"text-align: right;\">\n",
       "      <th></th>\n",
       "      <th>team_api_id</th>\n",
       "      <th>team_long_name</th>\n",
       "    </tr>\n",
       "  </thead>\n",
       "  <tbody>\n",
       "    <tr>\n",
       "      <th>0</th>\n",
       "      <td>9987</td>\n",
       "      <td>KRC Genk</td>\n",
       "    </tr>\n",
       "    <tr>\n",
       "      <th>1</th>\n",
       "      <td>9993</td>\n",
       "      <td>Beerschot AC</td>\n",
       "    </tr>\n",
       "    <tr>\n",
       "      <th>2</th>\n",
       "      <td>10000</td>\n",
       "      <td>SV Zulte-Waregem</td>\n",
       "    </tr>\n",
       "    <tr>\n",
       "      <th>3</th>\n",
       "      <td>9994</td>\n",
       "      <td>Sporting Lokeren</td>\n",
       "    </tr>\n",
       "    <tr>\n",
       "      <th>4</th>\n",
       "      <td>9984</td>\n",
       "      <td>KSV Cercle Brugge</td>\n",
       "    </tr>\n",
       "  </tbody>\n",
       "</table>\n",
       "</div>"
      ],
      "text/plain": [
       "   team_api_id     team_long_name\n",
       "0         9987           KRC Genk\n",
       "1         9993       Beerschot AC\n",
       "2        10000   SV Zulte-Waregem\n",
       "3         9994   Sporting Lokeren\n",
       "4         9984  KSV Cercle Brugge"
      ]
     },
     "execution_count": 17,
     "metadata": {},
     "output_type": "execute_result"
    }
   ],
   "source": [
    "teams.head()"
   ]
  },
  {
   "cell_type": "code",
   "execution_count": 18,
   "metadata": {},
   "outputs": [],
   "source": [
    "players = players.merge(teams, how='inner', right_on='team_api_id', left_on='team')"
   ]
  },
  {
   "cell_type": "code",
   "execution_count": 19,
   "metadata": {
    "scrolled": true
   },
   "outputs": [
    {
     "data": {
      "text/html": [
       "<div>\n",
       "<style scoped>\n",
       "    .dataframe tbody tr th:only-of-type {\n",
       "        vertical-align: middle;\n",
       "    }\n",
       "\n",
       "    .dataframe tbody tr th {\n",
       "        vertical-align: top;\n",
       "    }\n",
       "\n",
       "    .dataframe thead th {\n",
       "        text-align: right;\n",
       "    }\n",
       "</style>\n",
       "<table border=\"1\" class=\"dataframe\">\n",
       "  <thead>\n",
       "    <tr style=\"text-align: right;\">\n",
       "      <th></th>\n",
       "      <th>name</th>\n",
       "      <th>country_id</th>\n",
       "    </tr>\n",
       "  </thead>\n",
       "  <tbody>\n",
       "    <tr>\n",
       "      <th>0</th>\n",
       "      <td>Belgium</td>\n",
       "      <td>1</td>\n",
       "    </tr>\n",
       "    <tr>\n",
       "      <th>1</th>\n",
       "      <td>England</td>\n",
       "      <td>1729</td>\n",
       "    </tr>\n",
       "    <tr>\n",
       "      <th>2</th>\n",
       "      <td>France</td>\n",
       "      <td>4769</td>\n",
       "    </tr>\n",
       "    <tr>\n",
       "      <th>3</th>\n",
       "      <td>Germany</td>\n",
       "      <td>7809</td>\n",
       "    </tr>\n",
       "    <tr>\n",
       "      <th>4</th>\n",
       "      <td>Italy</td>\n",
       "      <td>10257</td>\n",
       "    </tr>\n",
       "  </tbody>\n",
       "</table>\n",
       "</div>"
      ],
      "text/plain": [
       "      name  country_id\n",
       "0  Belgium           1\n",
       "1  England        1729\n",
       "2   France        4769\n",
       "3  Germany        7809\n",
       "4    Italy       10257"
      ]
     },
     "execution_count": 19,
     "metadata": {},
     "output_type": "execute_result"
    }
   ],
   "source": [
    "countries = pd.read_sql_query(\"\"\"SELECT name, id AS country_id\n",
    "                                FROM\n",
    "                                Country;\"\"\", connection)\n",
    "countries.head()"
   ]
  },
  {
   "cell_type": "code",
   "execution_count": 20,
   "metadata": {
    "scrolled": false
   },
   "outputs": [],
   "source": [
    "players = players.merge(countries, how='inner', right_on='country_id', left_on='country_id')"
   ]
  },
  {
   "cell_type": "markdown",
   "metadata": {},
   "source": [
    "Finally, all ID columns will be dropped and columns will be renamed to suit the analysis."
   ]
  },
  {
   "cell_type": "code",
   "execution_count": 21,
   "metadata": {},
   "outputs": [],
   "source": [
    "players.drop(['team', 'country_id', 'league_id', 'team_api_id'], axis=1, inplace=True)"
   ]
  },
  {
   "cell_type": "code",
   "execution_count": 22,
   "metadata": {},
   "outputs": [],
   "source": [
    "players.rename(columns={'name':'country', 'player_name':'name', 'team_long_name':'team'}, inplace=True)"
   ]
  },
  {
   "cell_type": "markdown",
   "metadata": {},
   "source": [
    "## Data Cleaning"
   ]
  },
  {
   "cell_type": "markdown",
   "metadata": {},
   "source": [
    "First, the data will be inspected in order to look for opportunities to improve the data format to make it suitable for analysis."
   ]
  },
  {
   "cell_type": "code",
   "execution_count": 23,
   "metadata": {
    "scrolled": false
   },
   "outputs": [
    {
     "name": "stdout",
     "output_type": "stream",
     "text": [
      "<class 'pandas.core.frame.DataFrame'>\n",
      "Int64Index: 303324 entries, 0 to 303323\n",
      "Data columns (total 9 columns):\n",
      "name              303324 non-null object\n",
      "birthday          303324 non-null object\n",
      "height            303324 non-null float64\n",
      "weight            303324 non-null int64\n",
      "overall_rating    301976 non-null float64\n",
      "sprint_speed      301976 non-null float64\n",
      "date              303324 non-null object\n",
      "team              303324 non-null object\n",
      "country           303324 non-null object\n",
      "dtypes: float64(3), int64(1), object(5)\n",
      "memory usage: 23.1+ MB\n"
     ]
    }
   ],
   "source": [
    "players.info()"
   ]
  },
  {
   "cell_type": "code",
   "execution_count": 24,
   "metadata": {
    "scrolled": true
   },
   "outputs": [
    {
     "data": {
      "text/plain": [
       "name                 0\n",
       "birthday             0\n",
       "height               0\n",
       "weight               0\n",
       "overall_rating    1348\n",
       "sprint_speed      1348\n",
       "date                 0\n",
       "team                 0\n",
       "country              0\n",
       "dtype: int64"
      ]
     },
     "execution_count": 24,
     "metadata": {},
     "output_type": "execute_result"
    }
   ],
   "source": [
    "players.isnull().sum()"
   ]
  },
  {
   "cell_type": "markdown",
   "metadata": {},
   "source": [
    "Null values identified will be dropped."
   ]
  },
  {
   "cell_type": "code",
   "execution_count": 25,
   "metadata": {},
   "outputs": [],
   "source": [
    "players.dropna(inplace=True)"
   ]
  },
  {
   "cell_type": "code",
   "execution_count": 26,
   "metadata": {},
   "outputs": [
    {
     "data": {
      "text/html": [
       "<div>\n",
       "<style scoped>\n",
       "    .dataframe tbody tr th:only-of-type {\n",
       "        vertical-align: middle;\n",
       "    }\n",
       "\n",
       "    .dataframe tbody tr th {\n",
       "        vertical-align: top;\n",
       "    }\n",
       "\n",
       "    .dataframe thead th {\n",
       "        text-align: right;\n",
       "    }\n",
       "</style>\n",
       "<table border=\"1\" class=\"dataframe\">\n",
       "  <thead>\n",
       "    <tr style=\"text-align: right;\">\n",
       "      <th></th>\n",
       "      <th>name</th>\n",
       "      <th>birthday</th>\n",
       "      <th>height</th>\n",
       "      <th>weight</th>\n",
       "      <th>overall_rating</th>\n",
       "      <th>sprint_speed</th>\n",
       "      <th>date</th>\n",
       "      <th>team</th>\n",
       "      <th>country</th>\n",
       "    </tr>\n",
       "  </thead>\n",
       "  <tbody>\n",
       "    <tr>\n",
       "      <th>0</th>\n",
       "      <td>Patryk Rachwal,18</td>\n",
       "      <td>1981-01-27 00:00:00</td>\n",
       "      <td>175.26</td>\n",
       "      <td>154</td>\n",
       "      <td>61.0</td>\n",
       "      <td>63.0</td>\n",
       "      <td>2015-01-16 00:00:00</td>\n",
       "      <td>GKS Bełchatów</td>\n",
       "      <td>Poland</td>\n",
       "    </tr>\n",
       "    <tr>\n",
       "      <th>1</th>\n",
       "      <td>Patryk Rachwal,18</td>\n",
       "      <td>1981-01-27 00:00:00</td>\n",
       "      <td>175.26</td>\n",
       "      <td>154</td>\n",
       "      <td>61.0</td>\n",
       "      <td>63.0</td>\n",
       "      <td>2014-11-07 00:00:00</td>\n",
       "      <td>GKS Bełchatów</td>\n",
       "      <td>Poland</td>\n",
       "    </tr>\n",
       "    <tr>\n",
       "      <th>2</th>\n",
       "      <td>Patryk Rachwal,18</td>\n",
       "      <td>1981-01-27 00:00:00</td>\n",
       "      <td>175.26</td>\n",
       "      <td>154</td>\n",
       "      <td>61.0</td>\n",
       "      <td>63.0</td>\n",
       "      <td>2014-09-18 00:00:00</td>\n",
       "      <td>GKS Bełchatów</td>\n",
       "      <td>Poland</td>\n",
       "    </tr>\n",
       "    <tr>\n",
       "      <th>3</th>\n",
       "      <td>Patryk Rachwal,18</td>\n",
       "      <td>1981-01-27 00:00:00</td>\n",
       "      <td>175.26</td>\n",
       "      <td>154</td>\n",
       "      <td>61.0</td>\n",
       "      <td>63.0</td>\n",
       "      <td>2013-06-07 00:00:00</td>\n",
       "      <td>GKS Bełchatów</td>\n",
       "      <td>Poland</td>\n",
       "    </tr>\n",
       "    <tr>\n",
       "      <th>4</th>\n",
       "      <td>Patryk Rachwal,18</td>\n",
       "      <td>1981-01-27 00:00:00</td>\n",
       "      <td>175.26</td>\n",
       "      <td>154</td>\n",
       "      <td>61.0</td>\n",
       "      <td>63.0</td>\n",
       "      <td>2013-03-08 00:00:00</td>\n",
       "      <td>GKS Bełchatów</td>\n",
       "      <td>Poland</td>\n",
       "    </tr>\n",
       "  </tbody>\n",
       "</table>\n",
       "</div>"
      ],
      "text/plain": [
       "                name             birthday  height  weight  overall_rating  \\\n",
       "0  Patryk Rachwal,18  1981-01-27 00:00:00  175.26     154            61.0   \n",
       "1  Patryk Rachwal,18  1981-01-27 00:00:00  175.26     154            61.0   \n",
       "2  Patryk Rachwal,18  1981-01-27 00:00:00  175.26     154            61.0   \n",
       "3  Patryk Rachwal,18  1981-01-27 00:00:00  175.26     154            61.0   \n",
       "4  Patryk Rachwal,18  1981-01-27 00:00:00  175.26     154            61.0   \n",
       "\n",
       "   sprint_speed                 date           team country  \n",
       "0          63.0  2015-01-16 00:00:00  GKS Bełchatów  Poland  \n",
       "1          63.0  2014-11-07 00:00:00  GKS Bełchatów  Poland  \n",
       "2          63.0  2014-09-18 00:00:00  GKS Bełchatów  Poland  \n",
       "3          63.0  2013-06-07 00:00:00  GKS Bełchatów  Poland  \n",
       "4          63.0  2013-03-08 00:00:00  GKS Bełchatów  Poland  "
      ]
     },
     "execution_count": 26,
     "metadata": {},
     "output_type": "execute_result"
    }
   ],
   "source": [
    "players.head()"
   ]
  },
  {
   "cell_type": "markdown",
   "metadata": {},
   "source": [
    "Next, select columns will be converted to their appropriate datatype."
   ]
  },
  {
   "cell_type": "code",
   "execution_count": 27,
   "metadata": {},
   "outputs": [],
   "source": [
    "players['birthday'] = pd.to_datetime(players['birthday'])\n",
    "players['date'] = pd.to_datetime(players['date'])\n",
    "players['team'] = players['team'].astype(str)\n",
    "players['overall_rating'] = players['overall_rating'].astype(int)\n",
    "players['sprint_speed'] = players['sprint_speed'].astype(int)"
   ]
  },
  {
   "cell_type": "markdown",
   "metadata": {},
   "source": [
    "Next, a function to convert the players' birthday into his age is defined and added to the dataframe under the 'age' column."
   ]
  },
  {
   "cell_type": "code",
   "execution_count": 28,
   "metadata": {},
   "outputs": [],
   "source": [
    "def get_age(birthday):\n",
    "    today = pd.to_datetime(date.today()).year\n",
    "    return today-birthday.year"
   ]
  },
  {
   "cell_type": "code",
   "execution_count": 29,
   "metadata": {},
   "outputs": [],
   "source": [
    "players['age'] = players['birthday'].apply(get_age)\n",
    "players.drop('birthday', axis=1, inplace=True)"
   ]
  },
  {
   "cell_type": "code",
   "execution_count": 30,
   "metadata": {},
   "outputs": [
    {
     "data": {
      "text/html": [
       "<div>\n",
       "<style scoped>\n",
       "    .dataframe tbody tr th:only-of-type {\n",
       "        vertical-align: middle;\n",
       "    }\n",
       "\n",
       "    .dataframe tbody tr th {\n",
       "        vertical-align: top;\n",
       "    }\n",
       "\n",
       "    .dataframe thead th {\n",
       "        text-align: right;\n",
       "    }\n",
       "</style>\n",
       "<table border=\"1\" class=\"dataframe\">\n",
       "  <thead>\n",
       "    <tr style=\"text-align: right;\">\n",
       "      <th></th>\n",
       "      <th>name</th>\n",
       "      <th>height</th>\n",
       "      <th>weight</th>\n",
       "      <th>overall_rating</th>\n",
       "      <th>sprint_speed</th>\n",
       "      <th>date</th>\n",
       "      <th>team</th>\n",
       "      <th>country</th>\n",
       "      <th>age</th>\n",
       "    </tr>\n",
       "  </thead>\n",
       "  <tbody>\n",
       "    <tr>\n",
       "      <th>0</th>\n",
       "      <td>Patryk Rachwal,18</td>\n",
       "      <td>175.26</td>\n",
       "      <td>154</td>\n",
       "      <td>61</td>\n",
       "      <td>63</td>\n",
       "      <td>2015-01-16</td>\n",
       "      <td>GKS Bełchatów</td>\n",
       "      <td>Poland</td>\n",
       "      <td>39</td>\n",
       "    </tr>\n",
       "    <tr>\n",
       "      <th>1</th>\n",
       "      <td>Patryk Rachwal,18</td>\n",
       "      <td>175.26</td>\n",
       "      <td>154</td>\n",
       "      <td>61</td>\n",
       "      <td>63</td>\n",
       "      <td>2014-11-07</td>\n",
       "      <td>GKS Bełchatów</td>\n",
       "      <td>Poland</td>\n",
       "      <td>39</td>\n",
       "    </tr>\n",
       "    <tr>\n",
       "      <th>2</th>\n",
       "      <td>Patryk Rachwal,18</td>\n",
       "      <td>175.26</td>\n",
       "      <td>154</td>\n",
       "      <td>61</td>\n",
       "      <td>63</td>\n",
       "      <td>2014-09-18</td>\n",
       "      <td>GKS Bełchatów</td>\n",
       "      <td>Poland</td>\n",
       "      <td>39</td>\n",
       "    </tr>\n",
       "    <tr>\n",
       "      <th>3</th>\n",
       "      <td>Patryk Rachwal,18</td>\n",
       "      <td>175.26</td>\n",
       "      <td>154</td>\n",
       "      <td>61</td>\n",
       "      <td>63</td>\n",
       "      <td>2013-06-07</td>\n",
       "      <td>GKS Bełchatów</td>\n",
       "      <td>Poland</td>\n",
       "      <td>39</td>\n",
       "    </tr>\n",
       "    <tr>\n",
       "      <th>4</th>\n",
       "      <td>Patryk Rachwal,18</td>\n",
       "      <td>175.26</td>\n",
       "      <td>154</td>\n",
       "      <td>61</td>\n",
       "      <td>63</td>\n",
       "      <td>2013-03-08</td>\n",
       "      <td>GKS Bełchatów</td>\n",
       "      <td>Poland</td>\n",
       "      <td>39</td>\n",
       "    </tr>\n",
       "  </tbody>\n",
       "</table>\n",
       "</div>"
      ],
      "text/plain": [
       "                name  height  weight  overall_rating  sprint_speed       date  \\\n",
       "0  Patryk Rachwal,18  175.26     154              61            63 2015-01-16   \n",
       "1  Patryk Rachwal,18  175.26     154              61            63 2014-11-07   \n",
       "2  Patryk Rachwal,18  175.26     154              61            63 2014-09-18   \n",
       "3  Patryk Rachwal,18  175.26     154              61            63 2013-06-07   \n",
       "4  Patryk Rachwal,18  175.26     154              61            63 2013-03-08   \n",
       "\n",
       "            team country  age  \n",
       "0  GKS Bełchatów  Poland   39  \n",
       "1  GKS Bełchatów  Poland   39  \n",
       "2  GKS Bełchatów  Poland   39  \n",
       "3  GKS Bełchatów  Poland   39  \n",
       "4  GKS Bełchatów  Poland   39  "
      ]
     },
     "execution_count": 30,
     "metadata": {},
     "output_type": "execute_result"
    }
   ],
   "source": [
    "players.head()"
   ]
  },
  {
   "cell_type": "markdown",
   "metadata": {},
   "source": [
    "Now, the table is ready for analysis."
   ]
  },
  {
   "cell_type": "markdown",
   "metadata": {},
   "source": [
    "<a id='eda'></a>\n",
    "## Exploratory Data Analysis\n",
    "\n",
    "\n",
    "### Question 1: Which country had the best players in 2016?"
   ]
  },
  {
   "cell_type": "code",
   "execution_count": 31,
   "metadata": {
    "scrolled": false
   },
   "outputs": [
    {
     "data": {
      "image/png": "[encoded data removed]",
      "text/plain": [
       "<matplotlib.figure.Figure at 0x7f9bc8127a90>"
      ]
     },
     "metadata": {
      "needs_background": "light"
     },
     "output_type": "display_data"
    }
   ],
   "source": [
    "overall_rating_per_country = players.query('date>=\"2016-01-01\"').groupby('country')['overall_rating'].mean().sort_values(ascending=False)\n",
    "overall_rating_per_country.plot(kind='bar', title='Fig.1 - Average overall skill rating per country', color='blue')\n",
    "plt.xlabel('Country')\n",
    "plt.ylabel('Avg skill rating');"
   ]
  },
  {
   "cell_type": "markdown",
   "metadata": {},
   "source": [
    "### Question 2: Which team had the fastest players in 2016?"
   ]
  },
  {
   "cell_type": "code",
   "execution_count": 32,
   "metadata": {},
   "outputs": [
    {
     "data": {
      "image/png": "[encoded data removed]",
      "text/plain": [
       "<matplotlib.figure.Figure at 0x7f9b9b38e1d0>"
      ]
     },
     "metadata": {
      "needs_background": "light"
     },
     "output_type": "display_data"
    }
   ],
   "source": [
    "sprint_speed_per_team = players.query('date>=\"2016-01-01\"').groupby('team')['sprint_speed'].mean().sort_values(ascending=False)\n",
    "sprint_speed_per_team[:9].plot(kind='bar', title='Fig.2 - Teams with the highest average sprint speed', color='blue')\n",
    "plt.xlabel('Team')\n",
    "plt.ylabel('Avg sprint speed');"
   ]
  },
  {
   "cell_type": "markdown",
   "metadata": {},
   "source": [
    "### Question 3: What is the relationship between player weight and speed?"
   ]
  },
  {
   "cell_type": "code",
   "execution_count": 33,
   "metadata": {},
   "outputs": [
    {
     "data": {
      "image/png": "[encoded data removed]",
      "text/plain": [
       "<matplotlib.figure.Figure at 0x7f9b9b458240>"
      ]
     },
     "metadata": {
      "needs_background": "light"
     },
     "output_type": "display_data"
    }
   ],
   "source": [
    "players_2016 = players.query('date>=\"2016\"')\n",
    "weight_bins = pd.cut(players_2016['weight'], np.arange(players_2016['weight'].min(), players_2016['weight'].max(), 5))\n",
    "players_2016.groupby(weight_bins)['sprint_speed'].mean().plot(kind='line', title='Fig.3 - Average sprint speed per weight tier') \n",
    "plt.xlabel('Weight')\n",
    "plt.ylabel('Avg sprint speed');\n",
    "\n",
    "# Question: why are the xticks not apprearing? When I add the parameter 'xticks=list(np.arange(players_2016['weight'].min(), players_2016['weight'].max(), 5))' it gives me a bizarre result."
   ]
  },
  {
   "cell_type": "markdown",
   "metadata": {},
   "source": [
    "### Question 4: What is the relationship between player age and overall rating?"
   ]
  },
  {
   "cell_type": "code",
   "execution_count": 34,
   "metadata": {
    "scrolled": true
   },
   "outputs": [
    {
     "data": {
      "image/png": "[encoded data removed]",
      "text/plain": [
       "<matplotlib.figure.Figure at 0x7f9b9b7d96d8>"
      ]
     },
     "metadata": {
      "needs_background": "light"
     },
     "output_type": "display_data"
    }
   ],
   "source": [
    "age_bins = pd.cut(players_2016['age'], np.arange(players_2016['age'].min(), players_2016['age'].max(), 5))\n",
    "players_2016.groupby(age_bins)['overall_rating'].mean().plot(kind='line', title='Fig.4 - Average overall rating per age tier') \n",
    "plt.xlabel('Age');\n",
    "plt.ylabel('Avg overall rating');\n",
    "\n",
    "# Question: why are the xticks not apprearing? "
   ]
  },
  {
   "cell_type": "markdown",
   "metadata": {},
   "source": [
    "### Question 5: Which players have improved the most between 2014 and 2016?"
   ]
  },
  {
   "cell_type": "code",
   "execution_count": 35,
   "metadata": {},
   "outputs": [],
   "source": [
    "players_14 = players[['name','date', 'overall_rating']].query('date>=\"2014-01-01\"&date<\"2015-01-01\"').rename(columns = lambda x: x +\"_2014\")\n",
    "players_14 = players_14.loc[players_14.groupby('name_2014')['date_2014'].agg(pd.Series.idxmax)]\n",
    "\n",
    "players_16 = players[['name','date', 'overall_rating']].query('date>=\"2016-01-01\"&date<\"2017-01-01\"').rename(columns = lambda x: x +\"_2016\")\n",
    "players_16 = players_16.loc[players_16.groupby('name_2016')['date_2016'].agg(pd.Series.idxmax)]"
   ]
  },
  {
   "cell_type": "code",
   "execution_count": 36,
   "metadata": {},
   "outputs": [],
   "source": [
    "players_14to16 = players_14.merge(players_16, how='inner', left_on='name_2014', right_on='name_2016')"
   ]
  },
  {
   "cell_type": "code",
   "execution_count": 37,
   "metadata": {},
   "outputs": [],
   "source": [
    "players_14to16['overall_rating_increase'] = (players_14to16['overall_rating_2016']/players_14to16['overall_rating_2014'])-1\n",
    "players_14to16 = players_14to16[['name_2014', 'overall_rating_increase']].sort_values('overall_rating_increase', ascending=False).reset_index().drop('index', axis=1).rename(columns={'name_2014':'name'})"
   ]
  },
  {
   "cell_type": "code",
   "execution_count": 38,
   "metadata": {},
   "outputs": [
    {
     "data": {
      "image/png": "[encoded data removed]",
      "text/plain": [
       "<matplotlib.figure.Figure at 0x7f9b9ba2d940>"
      ]
     },
     "metadata": {
      "needs_background": "light"
     },
     "output_type": "display_data"
    }
   ],
   "source": [
    "players_14to16.iloc[:9].sort_values('overall_rating_increase', ascending=True).plot(kind='barh', x='name')\n",
    "plt.title('Fig. 5 - Players with the highest overall rating improvement, 2014-2016')\n",
    "plt.xlabel('Overall rating increase (%)')\n",
    "plt.ylabel('Name');"
   ]
  },
  {
   "cell_type": "markdown",
   "metadata": {},
   "source": [
    "<a id='conclusions'></a>\n",
    "## Conclusions\n",
    "\n",
    "In conclusion the following answers can be provided to each of our research questions:\n",
    "<ol>\n",
    "    <li> Q1: The countries/leagues with the best players are Spain, followed by Italy, England, Germany, and France.</li>\n",
    "    <li> Q2: The teams with the fastest players are KSV Roeselare, Zawisza Bydgoszcz, Grenoble Foot 38, Borussia Dortmund, Bournemouth</li>\n",
    "    <li> Q3: There seems to be an overall negative relationship between player weight and speed.</li>\n",
    "    <li> Q4: It seems that, on average, younger players have a lower overall skill rating. This rating increases with age, but then dips again towards the end of players' careers.</li>\n",
    "    <li> Q5: The playesr who have improved the most between 2014 and 2016 are Inigo Lekue, Aritz Elustondo, Bartosz Kapustka, Sabin Merino, and Dele Alli.</li>"
   ]
  },
  {
   "cell_type": "code",
   "execution_count": 39,
   "metadata": {},
   "outputs": [
    {
     "data": {
      "text/plain": [
       "0"
      ]
     },
     "execution_count": 39,
     "metadata": {},
     "output_type": "execute_result"
    }
   ],
   "source": [
    "from subprocess import call\n",
    "call(['python', '-m', 'nbconvert', 'Investigate_a_Dataset.ipynb'])"
   ]
  }
 ],
 "metadata": {
  "kernelspec": {
   "display_name": "Python 3",
   "language": "python",
   "name": "python3"
  },
  "language_info": {
   "codemirror_mode": {
    "name": "ipython",
    "version": 3
   },
   "file_extension": ".py",
   "mimetype": "text/x-python",
   "name": "python",
   "nbconvert_exporter": "python",
   "pygments_lexer": "ipython3",
   "version": "3.6.3"
  }
 },
 "nbformat": 4,
 "nbformat_minor": 2
}
